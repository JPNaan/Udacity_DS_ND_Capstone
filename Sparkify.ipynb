{
 "cells": [
  {
   "cell_type": "markdown",
   "metadata": {},
   "source": [
    "# Sparkify Project Workspace\n",
    "This workspace contains a tiny subset (128MB) of the full dataset available (12GB). Feel free to use this workspace to build your project, or to explore a smaller subset with Spark before deploying your cluster on the cloud. Instructions for setting up your Spark cluster is included in the last lesson of the Extracurricular Spark Course content.\n",
    "\n",
    "You can follow the steps below to guide your data analysis and model building portion of this project."
   ]
  },
  {
   "cell_type": "code",
   "execution_count": 1,
   "metadata": {},
   "outputs": [],
   "source": [
    "# import libraries\n",
    "from pyspark.sql import SparkSession\n",
    "import pyspark.sql.functions as F\n",
    "\n",
    "from pyspark.ml import Pipeline\n",
    "from pyspark.ml.classification import LogisticRegression\n",
    "from pyspark.ml.evaluation import MulticlassClassificationEvaluator, RegressionEvaluator, BinaryClassificationEvaluator\n",
    "from pyspark.ml.feature import StandardScaler, VectorAssembler\n",
    "from pyspark.ml.regression import RandomForestRegressor\n",
    "from pyspark.ml.tuning import CrossValidator, ParamGridBuilder\n",
    "\n",
    "%matplotlib inline\n",
    "import matplotlib.pyplot as plt"
   ]
  },
  {
   "cell_type": "code",
   "execution_count": 2,
   "metadata": {},
   "outputs": [],
   "source": [
    "# create a Spark session\n",
    "spark = SparkSession.builder.appName(\"Sparkify\").getOrCreate()"
   ]
  },
  {
   "cell_type": "markdown",
   "metadata": {},
   "source": [
    "# Load Dataset\n",
    "In this workspace, the mini-dataset file is `mini_sparkify_event_data.json`. \n",
    "Additional datasets can be found at:\n",
    " - s3n://udacity-dsnd/sparkify/mini_sparkify_event_data.json (larger dataset located in AWS s3)\n",
    " - s3n://udacity-dsnd/sparkify/sparkify_event_data.json  (full dataset located in AWS s3)"
   ]
  },
  {
   "cell_type": "code",
   "execution_count": 3,
   "metadata": {},
   "outputs": [],
   "source": [
    "#Load in data\n",
    "event_data = 'mini_sparkify_event_data.json'\n",
    "df = spark.read.json(event_data)"
   ]
  },
  {
   "cell_type": "markdown",
   "metadata": {},
   "source": [
    "# Exploratory Data Analysis\n",
    "Here we will be exploring the data schema & values.  In particular we will be looking for qualitative characteristics from the data, and how it relates to particular users.  We will also be looking in detal for data anomolies such as missing or incomplete values (for example null userIds or sessionIds)\n",
    "\n",
    "***KEY OUPUT***\n",
    "A key output of the analysis will be how to construct a lable column identifying if a member has 'churned'"
   ]
  },
  {
   "cell_type": "code",
   "execution_count": 4,
   "metadata": {},
   "outputs": [
    {
     "name": "stdout",
     "output_type": "stream",
     "text": [
      "root\n",
      " |-- artist: string (nullable = true)\n",
      " |-- auth: string (nullable = true)\n",
      " |-- firstName: string (nullable = true)\n",
      " |-- gender: string (nullable = true)\n",
      " |-- itemInSession: long (nullable = true)\n",
      " |-- lastName: string (nullable = true)\n",
      " |-- length: double (nullable = true)\n",
      " |-- level: string (nullable = true)\n",
      " |-- location: string (nullable = true)\n",
      " |-- method: string (nullable = true)\n",
      " |-- page: string (nullable = true)\n",
      " |-- registration: long (nullable = true)\n",
      " |-- sessionId: long (nullable = true)\n",
      " |-- song: string (nullable = true)\n",
      " |-- status: long (nullable = true)\n",
      " |-- ts: long (nullable = true)\n",
      " |-- userAgent: string (nullable = true)\n",
      " |-- userId: string (nullable = true)\n",
      "\n"
     ]
    }
   ],
   "source": [
    "#Review file schema\n",
    "df.printSchema()"
   ]
  },
  {
   "cell_type": "code",
   "execution_count": 5,
   "metadata": {},
   "outputs": [
    {
     "name": "stdout",
     "output_type": "stream",
     "text": [
      "+-----+\n",
      "|level|\n",
      "+-----+\n",
      "| free|\n",
      "| paid|\n",
      "+-----+\n",
      "\n",
      "+------+\n",
      "|method|\n",
      "+------+\n",
      "|   PUT|\n",
      "|   GET|\n",
      "+------+\n",
      "\n",
      "+--------------------+\n",
      "|                page|\n",
      "+--------------------+\n",
      "|              Cancel|\n",
      "|    Submit Downgrade|\n",
      "|         Thumbs Down|\n",
      "|                Home|\n",
      "|           Downgrade|\n",
      "|         Roll Advert|\n",
      "|              Logout|\n",
      "|       Save Settings|\n",
      "|Cancellation Conf...|\n",
      "|               About|\n",
      "| Submit Registration|\n",
      "|            Settings|\n",
      "|               Login|\n",
      "|            Register|\n",
      "|     Add to Playlist|\n",
      "|          Add Friend|\n",
      "|            NextSong|\n",
      "|           Thumbs Up|\n",
      "|                Help|\n",
      "|             Upgrade|\n",
      "|               Error|\n",
      "|      Submit Upgrade|\n",
      "+--------------------+\n",
      "\n",
      "+------+\n",
      "|status|\n",
      "+------+\n",
      "|   307|\n",
      "|   404|\n",
      "|   200|\n",
      "+------+\n",
      "\n"
     ]
    },
    {
     "data": {
      "text/plain": [
       "(None, None, None, None)"
      ]
     },
     "execution_count": 5,
     "metadata": {},
     "output_type": "execute_result"
    }
   ],
   "source": [
    "# understand unique qualitative values\n",
    "df.select(['level']).dropDuplicates().show(),\\\n",
    "    df.select(['method']).dropDuplicates().show(),\\\n",
    "    df.select(['page']).dropDuplicates().show(50),\\\n",
    "    df.select(['status']).dropDuplicates().show()"
   ]
  },
  {
   "cell_type": "code",
   "execution_count": 6,
   "metadata": {},
   "outputs": [
    {
     "name": "stdout",
     "output_type": "stream",
     "text": [
      "+--------------+------+\n",
      "|length(userId)| count|\n",
      "+--------------+------+\n",
      "|             0|  8346|\n",
      "|             1| 11300|\n",
      "|             2|128858|\n",
      "|             3| 67340|\n",
      "|             6| 70656|\n",
      "+--------------+------+\n",
      "\n"
     ]
    }
   ],
   "source": [
    "# Understand userID format\n",
    "df.groupBy(F.length(F.col('userId'))).count().orderBy('length(userId)').show()"
   ]
  },
  {
   "cell_type": "code",
   "execution_count": 7,
   "metadata": {},
   "outputs": [
    {
     "name": "stdout",
     "output_type": "stream",
     "text": [
      "+--------------+-----+\n",
      "|length(userId)|count|\n",
      "+--------------+-----+\n",
      "|             0|    1|\n",
      "|             1|    8|\n",
      "|             2|   88|\n",
      "|             3|   56|\n",
      "|             6|   73|\n",
      "+--------------+-----+\n",
      "\n"
     ]
    }
   ],
   "source": [
    "# Understand unique userId format\n",
    "df.select(df.userId).dropDuplicates().groupBy(F.length(F.col('userId'))).count().orderBy('length(userId)').show()"
   ]
  },
  {
   "cell_type": "code",
   "execution_count": 8,
   "metadata": {},
   "outputs": [
    {
     "name": "stdout",
     "output_type": "stream",
     "text": [
      "+-----------------+-----+\n",
      "|length(sessionId)|count|\n",
      "+-----------------+-----+\n",
      "|                1|    9|\n",
      "|                2|   88|\n",
      "|                3|  897|\n",
      "|                4| 1360|\n",
      "+-----------------+-----+\n",
      "\n"
     ]
    }
   ],
   "source": [
    "#understand unique sessionID format\n",
    "df.select(df.sessionId).dropDuplicates().groupBy(F.length(F.col('sessionId'))).count().orderBy('length(sessionId)').show()"
   ]
  },
  {
   "cell_type": "markdown",
   "metadata": {},
   "source": [
    "### Tools to further investigate the data by particular characteristics"
   ]
  },
  {
   "cell_type": "code",
   "execution_count": 9,
   "metadata": {},
   "outputs": [
    {
     "name": "stdout",
     "output_type": "stream",
     "text": [
      "+---------------+-------------+\n",
      "|           page|itemInSession|\n",
      "+---------------+-------------+\n",
      "|       NextSong|           50|\n",
      "|       NextSong|           51|\n",
      "|       NextSong|           52|\n",
      "|       NextSong|           53|\n",
      "|Add to Playlist|           54|\n",
      "|       NextSong|           55|\n",
      "|       NextSong|           56|\n",
      "|       NextSong|           57|\n",
      "|       NextSong|           58|\n",
      "|       NextSong|           59|\n",
      "|       NextSong|           60|\n",
      "|       NextSong|           61|\n",
      "|       NextSong|           62|\n",
      "|       NextSong|           63|\n",
      "|       NextSong|           64|\n",
      "|       NextSong|           65|\n",
      "|       NextSong|           66|\n",
      "|       NextSong|           67|\n",
      "|       NextSong|           68|\n",
      "|       NextSong|           69|\n",
      "+---------------+-------------+\n",
      "only showing top 20 rows\n",
      "\n"
     ]
    }
   ],
   "source": [
    "# Understand itemsInSession\n",
    "df.select(['page', 'itemInSession']).where(\"userId == 30 and sessionId == 29\").orderBy('itemInSession').show()"
   ]
  },
  {
   "cell_type": "code",
   "execution_count": 10,
   "metadata": {},
   "outputs": [
    {
     "name": "stdout",
     "output_type": "stream",
     "text": [
      "+---------+-----+\n",
      "|sessionId|count|\n",
      "+---------+-----+\n",
      "|       29|   42|\n",
      "|      264|    2|\n",
      "|      532|  290|\n",
      "|      614|    6|\n",
      "|      682|    2|\n",
      "|      757|   27|\n",
      "|      763|   32|\n",
      "|      816|   77|\n",
      "|      892|    2|\n",
      "|      945|    1|\n",
      "|     1110|   31|\n",
      "|     1184|   33|\n",
      "|     1304|    3|\n",
      "|     1311|   60|\n",
      "|     1340|  106|\n",
      "|     1477|   79|\n",
      "|     1496|   31|\n",
      "|     1554|   97|\n",
      "|     1574|   35|\n",
      "|     1607|   28|\n",
      "+---------+-----+\n",
      "only showing top 20 rows\n",
      "\n"
     ]
    }
   ],
   "source": [
    "df.where(df.userId == 30).groupBy('sessionId').count().orderBy('sessionId').show()"
   ]
  },
  {
   "cell_type": "code",
   "execution_count": 11,
   "metadata": {},
   "outputs": [
    {
     "name": "stdout",
     "output_type": "stream",
     "text": [
      "+------+---------+----------+-------------+\n",
      "|userId|sessionId|      page|itemInSession|\n",
      "+------+---------+----------+-------------+\n",
      "|    30|      264|  NextSong|            0|\n",
      "|    30|      264|Add Friend|            1|\n",
      "+------+---------+----------+-------------+\n",
      "\n"
     ]
    }
   ],
   "source": [
    "df.select(['userId', 'sessionId', 'page', 'itemInSession'])\\\n",
    "    .where((df.userId == '30') & (df.sessionId == '264'))\\\n",
    "    .orderBy('itemInSession')\\\n",
    "    .show()"
   ]
  },
  {
   "cell_type": "code",
   "execution_count": 12,
   "metadata": {},
   "outputs": [
    {
     "name": "stdout",
     "output_type": "stream",
     "text": [
      "+------+---------+----+-------------+\n",
      "|userId|sessionId|page|itemInSession|\n",
      "+------+---------+----+-------------+\n",
      "+------+---------+----+-------------+\n",
      "\n"
     ]
    }
   ],
   "source": [
    "df.select(['userId', 'sessionId', 'page', 'itemInSession'])\\\n",
    "    .where((df.userId == '100010') & (df.page == 'Cancellation Confirmation'))\\\n",
    "    .orderBy('itemInSession')\\\n",
    "    .show()"
   ]
  },
  {
   "cell_type": "markdown",
   "metadata": {},
   "source": [
    "### Distribution of engagement data"
   ]
  },
  {
   "cell_type": "code",
   "execution_count": 13,
   "metadata": {},
   "outputs": [],
   "source": [
    "thumbs_df = df.select('userId', 'page').where((df.page == 'Thumbs Up') | (df.page == 'Thumbs.down')).groupBy('userId').count()"
   ]
  },
  {
   "cell_type": "code",
   "execution_count": 14,
   "metadata": {},
   "outputs": [
    {
     "name": "stdout",
     "output_type": "stream",
     "text": [
      "Distribution of thumbs up or down activity\n"
     ]
    },
    {
     "data": {
      "image/png": "[encoded data removed]",
      "text/plain": [
       "<matplotlib.figure.Figure at 0x7ff284e0e550>"
      ]
     },
     "metadata": {
      "needs_background": "light"
     },
     "output_type": "display_data"
    }
   ],
   "source": [
    "print('Distribution of thumbs up or down activity')\n",
    "plt.hist(thumbs_df.select('count').rdd.flatMap(lambda x: x).collect());"
   ]
  },
  {
   "cell_type": "code",
   "execution_count": 15,
   "metadata": {},
   "outputs": [],
   "source": [
    "sessions_df = df.select('userId', 'sessionId', 'itemInSession').groupBy('userId','sessionId').count()"
   ]
  },
  {
   "cell_type": "code",
   "execution_count": 16,
   "metadata": {},
   "outputs": [
    {
     "name": "stdout",
     "output_type": "stream",
     "text": [
      "Distribution of items in users sessions\n"
     ]
    },
    {
     "data": {
      "image/png": "[encoded data removed]",
      "text/plain": [
       "<matplotlib.figure.Figure at 0x7ff270864eb8>"
      ]
     },
     "metadata": {
      "needs_background": "light"
     },
     "output_type": "display_data"
    }
   ],
   "source": [
    "print('Distribution of items in users sessions')\n",
    "plt.hist(sessions_df.select('count').rdd.flatMap(lambda x: x).collect());"
   ]
  },
  {
   "cell_type": "markdown",
   "metadata": {},
   "source": [
    "### Review Null & Blank data"
   ]
  },
  {
   "cell_type": "code",
   "execution_count": 17,
   "metadata": {},
   "outputs": [
    {
     "name": "stdout",
     "output_type": "stream",
     "text": [
      "total count:  286500\n",
      "count with dropped null sessionId or userId:  286500\n"
     ]
    }
   ],
   "source": [
    "print('total count: ', df.count())\n",
    "print('count with dropped null sessionId or userId: ', df.dropna(how = \"any\", subset = [\"userId\", \"sessionId\"]).count())"
   ]
  },
  {
   "cell_type": "markdown",
   "metadata": {},
   "source": [
    "## Clean Data\n",
    "We have identified that although there are no null values for the userId, we do have a number of values with the userId blank.  However, since we want to be able to leverage this code on additional data sets we will go ahead and handle the case for null data as well as this case for blank strings."
   ]
  },
  {
   "cell_type": "code",
   "execution_count": 18,
   "metadata": {},
   "outputs": [],
   "source": [
    "# Remove rows where either userId or sessionId are blank\n",
    "df = df.where('''\n",
    "                length(userId) > 0\n",
    "                AND\n",
    "                length(sessionId) > 0\n",
    "                ''')"
   ]
  },
  {
   "cell_type": "code",
   "execution_count": 19,
   "metadata": {},
   "outputs": [],
   "source": [
    "#drop any rows with either sessionId or userId null\n",
    "df = df.dropna(how = \"any\", subset = [\"userId\", \"sessionId\"])"
   ]
  },
  {
   "cell_type": "code",
   "execution_count": 20,
   "metadata": {},
   "outputs": [
    {
     "name": "stdout",
     "output_type": "stream",
     "text": [
      "# of Records:  278154\n",
      "# of Users:  225\n"
     ]
    }
   ],
   "source": [
    "print('# of Records: ', df.count())\n",
    "print('# of Users: ', df.select('userId').dropDuplicates().count())"
   ]
  },
  {
   "cell_type": "markdown",
   "metadata": {},
   "source": [
    "# Feature Engineering\n",
    "Now that we are familiar with the data we will build out the following features that will be used in the modeling step.  Since we are interested in identifying the churn of individual users, our features will be constructed by a number of engagement metrics.\n",
    "\n",
    "**Label**\n",
    "- churn: represents any user who has had the 'Cancelation Confirmation' event.  This will be the target label for our modeling as we are interested in identifying users who may cancel their account\n",
    "\n",
    "**Identifier**\n",
    "- userId:  represents the unique users\n",
    "\n",
    "**Engagement Metrics**\n",
    "- no_thumbs:  represents the number of thumbs up or thumbs down that a user performed \n",
    "- no_playlist: represents the number of songs that a user has added to their playlists \n",
    "- no_friends: represents the number of friends added to their account\n",
    "- no_help: represents the number of times a user had to access the help feature \n",
    "- no_settings: represents the number of times a user accessed the settings menu\n",
    "- no_advert:  represents the number of times that a user received an ad\n",
    "- no_errors:  represents the number of times a user received an error message\n",
    "- avg_pages:  represents the average number of pages that the users accessed by session"
   ]
  },
  {
   "cell_type": "code",
   "execution_count": 21,
   "metadata": {},
   "outputs": [],
   "source": [
    "#create a temp veiw to enable spark.sql functionality\n",
    "df.createOrReplaceTempView(\"df_table\")"
   ]
  },
  {
   "cell_type": "code",
   "execution_count": 22,
   "metadata": {},
   "outputs": [],
   "source": [
    "#feature engineering script\n",
    "engagement = spark.sql('''\n",
    "SELECT userId,\n",
    "       SUM(CASE WHEN page = 'Cancellation Confirmation' THEN 1 ELSE 0 END) AS churn,\n",
    "       SUM(CASE WHEN page = 'Thumbs Up' OR page = 'Thumbs Down' THEN 1 ELSE 0 END) AS no_thumbs,\n",
    "       SUM(CASE When page = 'Add to Playlist' THEN 1 ELSE 0 END) AS no_playlist,\n",
    "       SUM(CASE when page = 'Add Friend' THEN 1 ELSE 0 END) AS no_friends,\n",
    "       SUM(CASE when page = 'Help' THEN 1 ELSE 0 END) AS no_help,\n",
    "       SUM(CASE when page = 'Settings' THEN 1 ELSE 0 END) AS no_settings,\n",
    "       SUM(CASE when page = 'Roll Advert' THEN 1 ELSE 0 END) AS no_advert,\n",
    "       SUM(CASE when page = 'Error' THEN 1 ELSE 0 END) AS no_errors\n",
    "FROM df_table AS engagement\n",
    "GROUP BY userId\n",
    "''')\n",
    "\n",
    "sessions = spark.sql('''\n",
    "select userId, ROUND(AVG(pages)) as avg_pages\n",
    "from (select userId, sessionId, count(itemInSession) as pages from df_table group by userId, sessionId order by userId) \n",
    "group by userId''')\n",
    "\n",
    "feature_set = engagement.join(sessions, ['userId'])"
   ]
  },
  {
   "cell_type": "code",
   "execution_count": null,
   "metadata": {
    "scrolled": true
   },
   "outputs": [],
   "source": []
  },
  {
   "cell_type": "code",
   "execution_count": 23,
   "metadata": {},
   "outputs": [
    {
     "name": "stdout",
     "output_type": "stream",
     "text": [
      "+------+-----+---------+-----------+----------+-------+-----------+---------+---------+---------+\n",
      "|userId|churn|no_thumbs|no_playlist|no_friends|no_help|no_settings|no_advert|no_errors|avg_pages|\n",
      "+------+-----+---------+-----------+----------+-------+-----------+---------+---------+---------+\n",
      "|100010|    0|       22|          7|         4|      2|          0|       52|        0|     54.0|\n",
      "|200002|    0|       27|          8|         4|      2|          3|        7|        0|     79.0|\n",
      "|   125|    1|        0|          0|         0|      0|          0|        1|        0|     11.0|\n",
      "|   124|    0|      212|        118|        74|     23|         20|        4|        6|    166.0|\n",
      "|    51|    1|      121|         52|        28|     12|         12|        0|        1|    246.0|\n",
      "|     7|    0|        8|          5|         1|      1|          3|       16|        1|     29.0|\n",
      "|    15|    0|       95|         59|        31|      8|         16|        1|        2|    152.0|\n",
      "|    54|    1|      192|         72|        33|     17|         17|       47|        1|     93.0|\n",
      "|   155|    0|       61|         24|        11|      9|          5|        8|        3|    167.0|\n",
      "|100014|    1|       20|          7|         6|      2|          1|        2|        0|     52.0|\n",
      "|   132|    0|      113|         38|        41|     16|         17|        2|        3|    144.0|\n",
      "|   154|    0|       11|          1|         3|      1|          0|       10|        0|     39.0|\n",
      "|   101|    1|      102|         61|        29|     12|          9|        8|        3|    215.0|\n",
      "|    11|    0|       49|         20|         6|      3|          6|       39|        1|     53.0|\n",
      "|   138|    0|      119|         67|        41|     13|         17|       17|        1|    165.0|\n",
      "|300017|    0|      331|        113|        63|     27|         23|       11|        5|     70.0|\n",
      "|100021|    1|       16|          7|         7|      0|          0|       30|        2|     64.0|\n",
      "|    29|    1|      176|         89|        47|     28|         19|       22|        0|    106.0|\n",
      "|    69|    0|       81|         33|        12|      7|          3|        3|        4|    149.0|\n",
      "|   112|    0|       12|          7|         7|      1|          4|       21|        0|     29.0|\n",
      "+------+-----+---------+-----------+----------+-------+-----------+---------+---------+---------+\n",
      "only showing top 20 rows\n",
      "\n"
     ]
    }
   ],
   "source": [
    "#The data set to model\n",
    "feature_set.show()"
   ]
  },
  {
   "cell_type": "markdown",
   "metadata": {},
   "source": [
    "# Modeling\n",
    "We will use Random Forest and Logistic regression on our data set in order to predict the churn event.  We will setup a pipeline within cross validation to build the models.  The dataset will be split to train 80% of the data thereby leaving 20% of the data for testing.\n",
    "\n",
    "The success of our model will be determined using precision, accuracy and F1 score."
   ]
  },
  {
   "cell_type": "code",
   "execution_count": 24,
   "metadata": {},
   "outputs": [],
   "source": [
    "#Create train and test datasets\n",
    "train, test = feature_set.randomSplit([0.8, 0.2], seed=42)"
   ]
  },
  {
   "cell_type": "code",
   "execution_count": 25,
   "metadata": {},
   "outputs": [],
   "source": [
    "#Create a list containing only dataset featrues, and then load these features into a vector assembler for modeling\n",
    "feature_list = ['no_thumbs', 'no_playlist', 'no_friends', 'no_help', 'no_settings', 'no_advert', 'no_errors', 'avg_pages']\n",
    "assembler = VectorAssembler(inputCols = feature_list, outputCol = 'feature_vect')\n"
   ]
  },
  {
   "cell_type": "markdown",
   "metadata": {},
   "source": [
    "### Random Forest"
   ]
  },
  {
   "cell_type": "code",
   "execution_count": 26,
   "metadata": {},
   "outputs": [],
   "source": [
    "#Build the random forest model pipline & parameters\n",
    "rand_forest = RandomForestRegressor(labelCol = 'churn', featuresCol = 'feature_vect')\n",
    "forest_pipeline = Pipeline(stages = [assembler, rand_forest])\n",
    "forest_paramGrid = ParamGridBuilder() \\\n",
    "    .addGrid(rand_forest.numTrees, [10]) \\\n",
    "    .addGrid(rand_forest.maxDepth, [5,10]) \\\n",
    "    .build()\n",
    "forest_crossval = CrossValidator(estimator = forest_pipeline,\n",
    "                          estimatorParamMaps = forest_paramGrid,\n",
    "                          evaluator = RegressionEvaluator(labelCol='churn'),\n",
    "                          numFolds = 3)"
   ]
  },
  {
   "cell_type": "code",
   "execution_count": 27,
   "metadata": {},
   "outputs": [],
   "source": [
    "#Fit the model with the training dataset, and then apply the model to the test dataset\n",
    "f_cvModel = forest_crossval.fit(train)\n",
    "f_predict = f_cvModel.transform(test)"
   ]
  },
  {
   "cell_type": "code",
   "execution_count": 28,
   "metadata": {},
   "outputs": [
    {
     "name": "stdout",
     "output_type": "stream",
     "text": [
      "+-----+----------+-----+\n",
      "|churn|pred_round|count|\n",
      "+-----+----------+-----+\n",
      "|    0|       0.5|    1|\n",
      "|    1|       0.3|    3|\n",
      "|    0|       0.4|    1|\n",
      "|    1|       0.5|    1|\n",
      "|    1|       0.4|    1|\n",
      "|    0|       0.6|    1|\n",
      "|    0|       0.2|    8|\n",
      "|    0|       0.0|    6|\n",
      "|    0|       0.1|    4|\n",
      "|    1|       0.2|    1|\n",
      "|    0|       0.3|    5|\n",
      "|    1|       0.1|    2|\n",
      "+-----+----------+-----+\n",
      "\n"
     ]
    }
   ],
   "source": [
    "#Take a look at the predictions to gain an uderstanding of how many churns were predicted\n",
    "f_predictions = f_predict.withColumn('pred_round',F.round(f_predict.prediction,1))\n",
    "f_predictions.groupBy('churn','pred_round').count().show()"
   ]
  },
  {
   "cell_type": "markdown",
   "metadata": {},
   "source": [
    "### Logistic Regression\n",
    "We see that the above Random Forest model failed to predict the churn events, and since we do not have any predicted positives we will get precision and F1 as zero without having to perform many calculations.  We will now take a look at the Logistic Regression model to see if we do any better."
   ]
  },
  {
   "cell_type": "code",
   "execution_count": 29,
   "metadata": {},
   "outputs": [],
   "source": [
    "#Build model and parameters\n",
    "log_reg = LogisticRegression(labelCol = 'churn', featuresCol = 'feature_vect')\n",
    "reg_pipeline = Pipeline(stages = [assembler, log_reg])\n",
    "reg_paramGrid = ParamGridBuilder() \\\n",
    "    .addGrid(log_reg.maxIter, [10,20]) \\\n",
    "    .build()\n",
    "reg_crossval = CrossValidator(estimator = reg_pipeline,\n",
    "                          estimatorParamMaps = reg_paramGrid,\n",
    "                          evaluator = RegressionEvaluator(labelCol='churn'),\n",
    "                          numFolds = 3)"
   ]
  },
  {
   "cell_type": "code",
   "execution_count": 30,
   "metadata": {},
   "outputs": [],
   "source": [
    "#fit and transform the model\n",
    "reg_cvModel = reg_crossval.fit(train)\n",
    "reg_predict = reg_cvModel.transform(test)"
   ]
  },
  {
   "cell_type": "code",
   "execution_count": 31,
   "metadata": {},
   "outputs": [
    {
     "name": "stdout",
     "output_type": "stream",
     "text": [
      "+-----+----------+-----+\n",
      "|churn|prediction|count|\n",
      "+-----+----------+-----+\n",
      "|    1|       0.0|    8|\n",
      "|    0|       0.0|   26|\n",
      "+-----+----------+-----+\n",
      "\n"
     ]
    }
   ],
   "source": [
    "#Take a look at the predictions to see if we get a better result\n",
    "reg_predict.select('userId', 'churn', 'prediction').groupBy('churn', 'prediction').count().show()"
   ]
  },
  {
   "cell_type": "markdown",
   "metadata": {},
   "source": [
    "*At this point we can see that neither the Random Forest nor the Logistic regression models are capable of predicting a single churn event.  As such we will scale the features using standard scaler to see if the differing value ranges within the original data set are affecting the predictability.*"
   ]
  },
  {
   "cell_type": "code",
   "execution_count": 32,
   "metadata": {},
   "outputs": [],
   "source": [
    "#scale the dataset\n",
    "standardscaler = StandardScaler().setInputCol(\"feature_vect\").setOutputCol(\"scaled_features\")\n",
    "feature_std_scaled = standardscaler.fit(assembler.transform(feature_set)).transform(assembler.transform(feature_set))\n",
    "feature_std_scaled = feature_std_scaled.drop('feature_vect')                                                                                    "
   ]
  },
  {
   "cell_type": "code",
   "execution_count": 33,
   "metadata": {},
   "outputs": [],
   "source": [
    "#Create train and test sets\n",
    "scale_train, scale_test = feature_std_scaled.randomSplit([0.8, 0.2], seed=42)"
   ]
  },
  {
   "cell_type": "code",
   "execution_count": 34,
   "metadata": {},
   "outputs": [],
   "source": [
    "#Instantiate model with pipeline and cross validation parameters\n",
    "log_reg_scale = LogisticRegression(labelCol = 'churn', featuresCol = 'scaled_features')\n",
    "reg_pipeline_scale = Pipeline(stages = [assembler, log_reg])\n",
    "reg_paramGrid_scale = ParamGridBuilder() \\\n",
    "    .addGrid(log_reg_scale.maxIter, [10]) \\\n",
    "    .build()\n",
    "reg_crossval_scale = CrossValidator(estimator = reg_pipeline_scale,\n",
    "                          estimatorParamMaps = reg_paramGrid_scale,\n",
    "                          #evaluator = RegressionEvaluator(labelCol='churn'),\n",
    "                          evaluator = BinaryClassificationEvaluator(labelCol='churn'),          \n",
    "                          numFolds = 3)"
   ]
  },
  {
   "cell_type": "code",
   "execution_count": 35,
   "metadata": {},
   "outputs": [],
   "source": [
    "#Train and test model\n",
    "reg_cvModel_scale = reg_crossval_scale.fit(scale_train)\n",
    "reg_predict_scale = reg_cvModel_scale.transform(test)"
   ]
  },
  {
   "cell_type": "code",
   "execution_count": 36,
   "metadata": {},
   "outputs": [
    {
     "name": "stdout",
     "output_type": "stream",
     "text": [
      "+------+-----+---------+-----------+----------+-------+-----------+---------+---------+---------+------------+-------------+-----------+----------+\n",
      "|userId|churn|no_thumbs|no_playlist|no_friends|no_help|no_settings|no_advert|no_errors|avg_pages|feature_vect|rawPrediction|probability|prediction|\n",
      "+------+-----+---------+-----------+----------+-------+-----------+---------+---------+---------+------------+-------------+-----------+----------+\n",
      "+------+-----+---------+-----------+----------+-------+-----------+---------+---------+---------+------------+-------------+-----------+----------+\n",
      "\n"
     ]
    }
   ],
   "source": [
    "#Investigate model results to see if the scaled data returned a better result\n",
    "reg_predict_scale.where(reg_predict_scale.prediction > 0).show()"
   ]
  },
  {
   "cell_type": "markdown",
   "metadata": {},
   "source": [
    "# Conclusion\n",
    "Here we have evaluated the Sparkify data, and built a number of engagement related features.  It is possible that running these models on the full dataset would provide us better results.  However, we were unsuccessful establishing a model that would predict the churn events despite evaluating with Random Forest and Logistic Regression on the current dataset.  As both models have similar results, and we have experimented with a few different hyper parameters, it may be best to look directly at the features for improvement.\n",
    "\n",
    "A number of possible improvements include:\n",
    "- We can look to leverage statistical analysis to replace the counts of engagement by percentile.  Taking the no_thumbs column for example, instead of just counting all the values we could take the top 10% of users and replace their value with .9, for those between 10% and 20% we could replace with .8, etc.  This would reduce some of the variability of the values since the engagement for the user with the 95% highest thumbs ranking is likely not qualitatively different than the user with 98% highest thumbs ranking.\n",
    "- We could leverage the datetime stamps for the data to get a value for how long a member has been a user.  It is possible that churn and life of an account may have some relevance\n",
    "- We could drill down further into the time analysis and look specifically around the timeframe that the account was canceled as it is possible that there is a difference in activity as we approach the churn event.\n",
    "- We could also leverage timestamp data to group our discreate users into users by time periods.  It may be that the activity in the first few weeks of the account creation have a direct impact on a future churn event\n"
   ]
  },
  {
   "cell_type": "code",
   "execution_count": null,
   "metadata": {},
   "outputs": [],
   "source": []
  }
 ],
 "metadata": {
  "kernelspec": {
   "display_name": "Python 3",
   "language": "python",
   "name": "python3"
  },
  "language_info": {
   "codemirror_mode": {
    "name": "ipython",
    "version": 3
   },
   "file_extension": ".py",
   "mimetype": "text/x-python",
   "name": "python",
   "nbconvert_exporter": "python",
   "pygments_lexer": "ipython3",
   "version": "3.6.3"
  }
 },
 "nbformat": 4,
 "nbformat_minor": 2
}
